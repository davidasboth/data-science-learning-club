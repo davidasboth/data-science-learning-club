{
 "cells": [
  {
   "cell_type": "markdown",
   "metadata": {},
   "source": [
    "## Naive Bayes Classifier\n",
    "\n",
    "Naive Bayes:\n",
    "* calculates P(C|X), i.e. the probability that a data point X should be classified as class C\n",
    "* Bayes' Rule states this should be P(C|X) = P(X|C)P(C) / P(X)\n",
    "* simplifying assumption 1: remove P(X) because:\n",
    "    * we don't care about actual probabilities, we just want to know the most likely class for a data point X\n",
    "    * P(X) is hard to calculate and it only scales the answer\n",
    "* simplifying assumption 2: assume independence between variables\n",
    "    * in practice this means we can use the product rule, so: P(C|X) = P(C|x1) \\* P(C|x2) etc. where x1, x2 .. xn are the different variables/features\n",
    "* final equation is therefore P(C=c1|X) = P(C=c1|x1) \\* P(C=c1|x2) ... \\* P(C=c1|xn) \\* P(C=c1)\n",
    "* the probability of P(C=c1) is the **prior** which can either be assumed to be uniform, or taken from the distribution of classes in the dataset"
   ]
  },
  {
   "cell_type": "code",
   "execution_count": 1,
   "metadata": {
    "collapsed": true
   },
   "outputs": [],
   "source": [
    "import pandas as pd\n",
    "import numpy as np"
   ]
  },
  {
   "cell_type": "markdown",
   "metadata": {},
   "source": [
    "#### Step 1 - calculate class probabilities\n",
    "* figure out P(C=c1), P(C=c2) ... P(C=cn)\n",
    "* or use a passed-in prior\n",
    "\n",
    "#### Step 2 - calculate feature probabilities\n",
    "* for each feature create a probability distribution using the mean and std of the values\n",
    "* OR for categorical variables create a discrete p.d.\n",
    "\n",
    "#### Step 3 - ready to process values\n",
    "* for a training example:\n",
    "    * for each class:\n",
    "        * for each feature check whether categorical or not\n",
    "            * if categorical, use the discrete p.d. to get a probability\n",
    "            * otherwise use the Gaussian equation to get a probability\n",
    "        * multiply together probabilities for all features\n",
    "        * multiply by the class probability and store the value\n",
    "    * choose the class with the highest value (or if one or more are equal, pick at random)"
   ]
  },
  {
   "cell_type": "code",
   "execution_count": 6,
   "metadata": {
    "collapsed": false
   },
   "outputs": [
    {
     "name": "stdout",
     "output_type": "stream",
     "text": [
      "1\n",
      "2\n",
      "3\n",
      "74\n",
      "75\n",
      "100\n"
     ]
    }
   ],
   "source": [
    "targets = np.array([2,3,1,1,2,3,2,3,74,75,2,100,1,2,3,2,2,2,1])\n",
    "for t in np.unique(targets):\n",
    "    print(t)\n",
    "\n",
    "targets."
   ]
  },
  {
   "cell_type": "code",
   "execution_count": 10,
   "metadata": {
    "collapsed": false
   },
   "outputs": [
    {
     "name": "stdout",
     "output_type": "stream",
     "text": [
      "Manual formula: 0.12951759566589174\n",
      "Scipy: 0.12951759566589174\n"
     ]
    }
   ],
   "source": [
    "import scipy.stats\n",
    "import math\n",
    "\n",
    "_mean = 2\n",
    "_std = 1\n",
    "x = 0.5\n",
    "\n",
    "var = float(_std)**2\n",
    "#3.1415926\n",
    "denom = (2*math.pi*var)**.5\n",
    "num = math.exp(-(float(x)-float(_mean))**2/(2*var))\n",
    "print('Manual formula: {}'.format(num/denom))\n",
    "print('Scipy: {}'.format(scipy.stats.norm(_mean,_std).pdf(x)))"
   ]
  },
  {
   "cell_type": "code",
   "execution_count": 15,
   "metadata": {
    "collapsed": false
   },
   "outputs": [],
   "source": [
    "df = pd.DataFrame()\n",
    "df['x1'] = np.random.randint(1,200,100)\n",
    "df['x2'] = np.random.randint(1,200,100)\n",
    "df['x3'] = np.random.randint(1,200,100)\n",
    "df['y'] =  np.random.randint(1,5,100)\n",
    "\n",
    "x = df[['x1', 'x2', 'x3']]"
   ]
  },
  {
   "cell_type": "code",
   "execution_count": 26,
   "metadata": {
    "collapsed": false
   },
   "outputs": [
    {
     "name": "stdout",
     "output_type": "stream",
     "text": [
      "115.41\n",
      "98.95\n",
      "108.06\n",
      "115.41\n"
     ]
    }
   ],
   "source": [
    "for c in x.columns:\n",
    "    print(x[c].mean())\n",
    "\n",
    "print(x.iloc[:,0].mean())"
   ]
  },
  {
   "cell_type": "code",
   "execution_count": 31,
   "metadata": {
    "collapsed": false
   },
   "outputs": [
    {
     "name": "stdout",
     "output_type": "stream",
     "text": [
      "[113, 164, 27, 160, 114, 119, 73, 86, 92, 75, 176, 101, 167, 57, 51, 108, 168, 187, 82, 96, 132, 136, 107, 91, 174, 61, 127, 124, 171, 181, 176, 137, 103, 158, 29, 123, 75, 87, 131, 110, 29, 152, 12, 164, 104, 195, 105, 97, 180, 167, 132, 71, 35, 172, 141, 153, 179, 46, 69, 49, 84, 138, 107, 66, 140, 143, 113, 90, 153, 163, 83, 128, 34, 183, 61, 151, 190, 10, 30, 191, 161, 81, 182, 99, 164, 174, 191, 194, 78, 143, 106, 77, 147, 109, 92, 180, 20, 21, 90, 73]\n"
     ]
    }
   ],
   "source": [
    "l = []\n",
    "df.apply(lambda x: l.append(x['x1']), axis=1)\n",
    "print(l)"
   ]
  },
  {
   "cell_type": "code",
   "execution_count": 35,
   "metadata": {
    "collapsed": false
   },
   "outputs": [
    {
     "name": "stdout",
     "output_type": "stream",
     "text": [
      "    x1  x2   x3\n",
      "0  150   3  111\n"
     ]
    },
    {
     "data": {
      "text/plain": [
       "[150]"
      ]
     },
     "execution_count": 35,
     "metadata": {},
     "output_type": "execute_result"
    }
   ],
   "source": [
    "test = pd.DataFrame()\n",
    "test['x1'] = [150]\n",
    "test['x2'] = [3]\n",
    "test['x3'] = [111]\n",
    "print(test.head())\n",
    "\n",
    "predictions = []\n",
    "test.apply(lambda x: predictions.append(x['x1']), axis=1)\n",
    "predictions"
   ]
  },
  {
   "cell_type": "code",
   "execution_count": 41,
   "metadata": {
    "collapsed": false
   },
   "outputs": [
    {
     "data": {
      "text/html": [
       "<div>\n",
       "<table border=\"1\" class=\"dataframe\">\n",
       "  <thead>\n",
       "    <tr style=\"text-align: right;\">\n",
       "      <th></th>\n",
       "      <th>x1</th>\n",
       "      <th>x2</th>\n",
       "      <th>x3</th>\n",
       "    </tr>\n",
       "  </thead>\n",
       "  <tbody>\n",
       "    <tr>\n",
       "      <th>2</th>\n",
       "      <td>200</td>\n",
       "      <td>10</td>\n",
       "      <td>8</td>\n",
       "    </tr>\n",
       "    <tr>\n",
       "      <th>3</th>\n",
       "      <td>200</td>\n",
       "      <td>10</td>\n",
       "      <td>8</td>\n",
       "    </tr>\n",
       "  </tbody>\n",
       "</table>\n",
       "</div>"
      ],
      "text/plain": [
       "    x1  x2  x3\n",
       "2  200  10   8\n",
       "3  200  10   8"
      ]
     },
     "execution_count": 41,
     "metadata": {},
     "output_type": "execute_result"
    }
   ],
   "source": [
    "df = pd.DataFrame()\n",
    "df['x1'] = [100,100,200,200,100]\n",
    "df['x2'] = [5,5,10,10,5]\n",
    "df['x3'] = [4,4,8,8,4]\n",
    "\n",
    "classes = [1,1,2,2,1]\n",
    "\n",
    "idx = [x==2 for x in classes]\n",
    "df.iloc[idx]"
   ]
  }
 ],
 "metadata": {
  "kernelspec": {
   "display_name": "Python 3",
   "language": "python",
   "name": "python3"
  },
  "language_info": {
   "codemirror_mode": {
    "name": "ipython",
    "version": 3
   },
   "file_extension": ".py",
   "mimetype": "text/x-python",
   "name": "python",
   "nbconvert_exporter": "python",
   "pygments_lexer": "ipython3",
   "version": "3.4.4"
  }
 },
 "nbformat": 4,
 "nbformat_minor": 0
}
