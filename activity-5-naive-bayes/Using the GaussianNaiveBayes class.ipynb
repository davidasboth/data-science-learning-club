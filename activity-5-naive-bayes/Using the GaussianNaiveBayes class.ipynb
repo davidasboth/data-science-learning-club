{
 "cells": [
  {
   "cell_type": "markdown",
   "metadata": {},
   "source": [
    "** Import necessary libraries for data-wrangling **"
   ]
  },
  {
   "cell_type": "code",
   "execution_count": 1,
   "metadata": {
    "collapsed": true
   },
   "outputs": [],
   "source": [
    "import pandas as pd\n",
    "import numpy as np"
   ]
  },
  {
   "cell_type": "markdown",
   "metadata": {},
   "source": [
    "** Import Naive Bayes implementation **"
   ]
  },
  {
   "cell_type": "code",
   "execution_count": 2,
   "metadata": {
    "collapsed": true
   },
   "outputs": [],
   "source": [
    "from gaussian_nb import GaussianNaiveBayes\n",
    "from evaluation import Evaluator"
   ]
  },
  {
   "cell_type": "markdown",
   "metadata": {},
   "source": [
    "** Import Titanic dataset and wrangle it into shape **"
   ]
  },
  {
   "cell_type": "code",
   "execution_count": 3,
   "metadata": {
    "collapsed": false
   },
   "outputs": [
    {
     "name": "stderr",
     "output_type": "stream",
     "text": [
      "/home/david/miniconda3/lib/python3.4/site-packages/ipykernel/__main__.py:8: SettingWithCopyWarning: \n",
      "A value is trying to be set on a copy of a slice from a DataFrame\n",
      "\n",
      "See the caveats in the documentation: http://pandas.pydata.org/pandas-docs/stable/indexing.html#indexing-view-versus-copy\n",
      "/home/david/miniconda3/lib/python3.4/site-packages/ipykernel/__main__.py:12: SettingWithCopyWarning: \n",
      "A value is trying to be set on a copy of a slice from a DataFrame.\n",
      "Try using .loc[row_indexer,col_indexer] = value instead\n",
      "\n",
      "See the caveats in the documentation: http://pandas.pydata.org/pandas-docs/stable/indexing.html#indexing-view-versus-copy\n",
      "/home/david/miniconda3/lib/python3.4/site-packages/ipykernel/__main__.py:15: SettingWithCopyWarning: \n",
      "A value is trying to be set on a copy of a slice from a DataFrame.\n",
      "Try using .loc[row_indexer,col_indexer] = value instead\n",
      "\n",
      "See the caveats in the documentation: http://pandas.pydata.org/pandas-docs/stable/indexing.html#indexing-view-versus-copy\n"
     ]
    }
   ],
   "source": [
    "# Titanic dataset\n",
    "df = pd.read_csv(\"data/titanic/train.csv\")\n",
    "\n",
    "# extract the relevant columns\n",
    "df_cols = df[['Pclass', 'Sex', 'Age', 'SibSp', 'Parch', 'Embarked', 'Survived']]\n",
    "\n",
    "# get rid of missing values (for simplicity)\n",
    "df_cols.dropna(axis=0, inplace=True)\n",
    "\n",
    "# turn categorical features into numbers\n",
    "gender = list(np.unique(df_cols['Sex'].values))\n",
    "df_cols['Sex'] = df_cols['Sex'].apply(lambda s: gender.index(s))\n",
    "\n",
    "embarked = list(np.unique(df_cols['Embarked'].values))\n",
    "df_cols['Embarked'] = df_cols['Embarked'].apply(lambda e: embarked.index(e))\n",
    "\n",
    "# extract features and targets into 2 different variables\n",
    "targets = df_cols['Survived']\n",
    "features = df_cols.drop(['Survived'], axis=1)\n",
    "\n",
    "# extract training and test sets\n",
    "x_train = features.iloc[:500,:]\n",
    "y_train = targets[:500]\n",
    "\n",
    "x_test = features.iloc[500:,:]\n",
    "y_test = targets[500:]"
   ]
  },
  {
   "cell_type": "markdown",
   "metadata": {},
   "source": [
    "** Instantiate Naive Bayes class and train on training data **\n",
    "\n",
    "Options include:\n",
    "* for each feature specifying whether it is a categorical variable or not\n",
    "* supplying prior class probabilities e.g. **priors=[0.7, 0.3]**\n",
    "* debug mode (to print calculations for individual data points)"
   ]
  },
  {
   "cell_type": "code",
   "execution_count": 4,
   "metadata": {
    "collapsed": true
   },
   "outputs": [],
   "source": [
    "nb = GaussianNaiveBayes(x_train,\n",
    "                        y_train,\n",
    "                        categoricals=[True, True, False, True, True, True],\n",
    "                        debug_mode=False)\n",
    "\n",
    "nb.train()"
   ]
  },
  {
   "cell_type": "markdown",
   "metadata": {},
   "source": [
    "** Now make predictions on new data **"
   ]
  },
  {
   "cell_type": "code",
   "execution_count": 5,
   "metadata": {
    "collapsed": true
   },
   "outputs": [],
   "source": [
    "predictions = nb.predict(x_test)"
   ]
  },
  {
   "cell_type": "markdown",
   "metadata": {},
   "source": [
    "** Calculate accuracy metrics **\n",
    "\n",
    "Note:\n",
    "* for binary classification, the BinaryMetrics class is used which gives accuracy, precision, recall and F-score\n",
    "* for multi-class classification, the MultiClassMetrics class only returns accuracy (% of correctly classified items)"
   ]
  },
  {
   "cell_type": "code",
   "execution_count": 8,
   "metadata": {
    "collapsed": false
   },
   "outputs": [
    {
     "name": "stdout",
     "output_type": "stream",
     "text": [
      "Accuracy: 0.802\n",
      "Precision: 0.760\n",
      "Recall: 0.704\n",
      "F-Score: 0.731\n"
     ]
    }
   ],
   "source": [
    "ev = Evaluator()\n",
    "metrics = ev.evaluate(predictions, y_test, binary=True)\n",
    "print(\"Accuracy: {:.3f}\\nPrecision: {:.3f}\\nRecall: {:.3f}\\nF-Score: {:.3f}\".format(metrics.accuracy,\n",
    "                                                                    metrics.precision,\n",
    "                                                                    metrics.recall,\n",
    "                                                                    metrics.f_score))"
   ]
  },
  {
   "cell_type": "markdown",
   "metadata": {},
   "source": [
    "** To check the implementation, run it through sklearn **"
   ]
  },
  {
   "cell_type": "code",
   "execution_count": 9,
   "metadata": {
    "collapsed": false
   },
   "outputs": [
    {
     "name": "stdout",
     "output_type": "stream",
     "text": [
      "\n",
      "SKLearn accuracy: 0.802\n"
     ]
    }
   ],
   "source": [
    "# for benchmarking, try sklearn implementation\n",
    "from sklearn.naive_bayes import GaussianNB\n",
    "from sklearn import metrics as sk_metrics\n",
    "\n",
    "gnb = GaussianNB()\n",
    "gnb.fit(x_train, y_train)\n",
    "gnb_predictions = gnb.predict(x_test)\n",
    "\n",
    "print(\"\\nSKLearn accuracy: {:.3f}\".format(sk_metrics.accuracy_score(y_test, gnb_predictions)))"
   ]
  }
 ],
 "metadata": {
  "kernelspec": {
   "display_name": "Python 3",
   "language": "python",
   "name": "python3"
  },
  "language_info": {
   "codemirror_mode": {
    "name": "ipython",
    "version": 3
   },
   "file_extension": ".py",
   "mimetype": "text/x-python",
   "name": "python",
   "nbconvert_exporter": "python",
   "pygments_lexer": "ipython3",
   "version": "3.4.4"
  }
 },
 "nbformat": 4,
 "nbformat_minor": 0
}
